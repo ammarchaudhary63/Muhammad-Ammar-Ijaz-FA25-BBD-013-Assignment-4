{
 "cells": [
  {
   "cell_type": "markdown",
   "id": "8a378467-c008-4b56-bdd6-f8ce30571f5c",
   "metadata": {},
   "source": [
    "## MUHAMMAD AMMAR IJAZ (FA25-BBD-013)\n",
    "## Assignment 4\n",
    "## Practice Exercises\n",
    "# Question no. 1\n",
    "##### Create a dictionary to store information about a person (name, age, city, hobbies).\n"
   ]
  },
  {
   "cell_type": "code",
   "execution_count": 2,
   "id": "87d7b411-8369-4fd8-8228-270b7701fd9a",
   "metadata": {},
   "outputs": [
    {
     "name": "stdout",
     "output_type": "stream",
     "text": [
      "{'name': 'Ammar', 'age': 18, 'city': 'Lahore', 'hobbies': ['reading', 'coding', 'traveling']}\n"
     ]
    }
   ],
   "source": [
    "person = {\n",
    "    \"name\": \"Ammar\",\n",
    "    \"age\": 18,\n",
    "    \"city\": \"Lahore\",\n",
    "    \"hobbies\": [\"reading\", \"coding\", \"traveling\"]\n",
    "}\n",
    "print(person)"
   ]
  },
  {
   "cell_type": "markdown",
   "id": "d78107f8-2c0c-46e4-85c7-a8d4dea3bc94",
   "metadata": {},
   "source": [
    "# Question no. 2\n",
    "##### Write a program to count the frequency of words in a given text."
   ]
  },
  {
   "cell_type": "code",
   "execution_count": 3,
   "id": "f7cf7965-95dd-4644-b60d-aeaa1ec65b4c",
   "metadata": {},
   "outputs": [
    {
     "name": "stdout",
     "output_type": "stream",
     "text": [
      "Word Frequency:\n",
      "python : 2\n",
      "is : 2\n",
      "fun : 1\n",
      "and : 1\n",
      "powerful : 1\n"
     ]
    }
   ],
   "source": [
    "text = \"Python is fun and Python is powerful\"\n",
    "words = text.lower().split()\n",
    "word_count = {}\n",
    "for word in words:\n",
    "    if word in word_count:\n",
    "        word_count[word] += 1\n",
    "    else:\n",
    "        word_count[word] = 1\n",
    "print(\"Word Frequency:\")\n",
    "for word, count in word_count.items():\n",
    "    print(word, \":\", count)"
   ]
  },
  {
   "cell_type": "markdown",
   "id": "cb8f57fe-c4ae-463b-a0b3-4b3e278fe883",
   "metadata": {},
   "source": [
    "# Question no. 3 \n",
    "##### Implement a simple inventory system using dictionaries."
   ]
  },
  {
   "cell_type": "code",
   "execution_count": 4,
   "id": "d6fa6851-c183-404e-9b1a-b282c0214ec8",
   "metadata": {},
   "outputs": [
    {
     "name": "stdout",
     "output_type": "stream",
     "text": [
      "Current Inventory:\n",
      "apple : 10\n",
      "banana : 20\n",
      "orange : 15\n",
      "\n",
      "Updated Inventory:\n",
      "apple : 15\n",
      "orange : 15\n",
      "mango : 15\n"
     ]
    }
   ],
   "source": [
    "inventory = {\n",
    "    \"apple\": 10,\n",
    "    \"banana\": 20,\n",
    "    \"orange\": 15\n",
    "}\n",
    "print(\"Current Inventory:\")\n",
    "for item, quantity in inventory.items():\n",
    "    print(item, \":\", quantity)\n",
    "inventory[\"apple\"] += 5     \n",
    "inventory[\"mango\"] = 15\n",
    "del inventory[\"banana\"]\n",
    "print(\"\\nUpdated Inventory:\")\n",
    "for item, quantity in inventory.items():\n",
    "    print(item, \":\", quantity)"
   ]
  },
  {
   "cell_type": "markdown",
   "id": "1672aae8-523c-4af5-b82d-8fd6f1d8bfad",
   "metadata": {},
   "source": [
    "# Question no. 4\n",
    "##### Analyze a dataset of customer orders to find the most popular product category."
   ]
  },
  {
   "cell_type": "code",
   "execution_count": 8,
   "id": "398f1177-0929-45dc-a0ee-037313583108",
   "metadata": {},
   "outputs": [
    {
     "name": "stdout",
     "output_type": "stream",
     "text": [
      "Category Frequency: {'Electronics': 3, 'Clothing': 2, 'Books': 1}\n",
      "Most Popular Product Category: Electronics\n"
     ]
    }
   ],
   "source": [
    "orders = [\"Electronics\", \"Clothing\", \"Electronics\", \"Books\", \"Clothing\", \"Electronics\"]\n",
    "category_count = {}\n",
    "for category in orders:\n",
    "    if category in category_count:\n",
    "        category_count[category] += 1\n",
    "    else:\n",
    "        category_count[category] = 1\n",
    "most_popular = max(category_count, key=category_count.get)\n",
    "print(\"Category Frequency:\", category_count)\n",
    "print(\"Most Popular Product Category:\", most_popular)"
   ]
  },
  {
   "cell_type": "markdown",
   "id": "e7b57874-798f-4067-84c6-22b92614c943",
   "metadata": {},
   "source": [
    "# Question no. 5\n",
    "##### Create a dictionary to store student grades and calculate the average grade."
   ]
  },
  {
   "cell_type": "code",
   "execution_count": 9,
   "id": "89cb5bc6-87e6-4498-bd21-7fa88ae9d0a2",
   "metadata": {},
   "outputs": [
    {
     "name": "stdout",
     "output_type": "stream",
     "text": [
      "Student Grades: {'Ammar': 85, 'Ali': 90, 'Muhammad': 78, 'Abdullah': 88}\n",
      "Average Grade: 85.25\n"
     ]
    }
   ],
   "source": [
    "grades = {\n",
    "    \"Ammar\": 85,\n",
    "    \"Ali\": 90,\n",
    "    \"Muhammad\": 78,\n",
    "    \"Abdullah\": 88\n",
    "}\n",
    "total = sum(grades.values())\n",
    "average = total / len(grades)\n",
    "print(\"Student Grades:\", grades)\n",
    "print(\"Average Grade:\", average)"
   ]
  },
  {
   "cell_type": "markdown",
   "id": "2a0f88a0-cf32-4ed7-aae1-7a09cc95d627",
   "metadata": {},
   "source": [
    "# Question no. 6\n",
    "##### Inventory Management:\n",
    "##### Create a dictionary to store product information: name, quantity, price.\n",
    "##### Implement functions to:\n",
    "##### Add new products\n",
    "##### Update product quantities\n",
    "##### Calculate total inventory value\n",
    "##### Generate a report of low-stock items"
   ]
  },
  {
   "cell_type": "code",
   "execution_count": 11,
   "id": "d5bf10b3-141b-479f-a6c4-a67d90b32004",
   "metadata": {},
   "outputs": [
    {
     "name": "stdout",
     "output_type": "stream",
     "text": [
      "orange added to inventory.\n",
      "apple quantity updated. New quantity: 15\n",
      "\n",
      "Total Inventory Value: 64.5\n",
      "\n",
      "Low Stock Items (below 5 ):\n",
      "mango - Quantity: 2\n"
     ]
    }
   ],
   "source": [
    "inventory = {\n",
    "    \"apple\": {\"quantity\": 10, \"price\": 2.5},\n",
    "    \"banana\": {\"quantity\": 5, \"price\": 1.0},\n",
    "    \"mango\": {\"quantity\": 2, \"price\": 3.0}\n",
    "}\n",
    "add_product(\"orange\", 8, 2.0)\n",
    "update_quantity(\"apple\", 5)\n",
    "print(\"\\nTotal Inventory Value:\", total_value())\n",
    "low_stock_report(5)"
   ]
  },
  {
   "cell_type": "markdown",
   "id": "74f5a080-faad-4de2-8bb2-01fc79f4a8f5",
   "metadata": {},
   "source": [
    "# Question no. 7\n",
    "##### Student Gradebook:\n",
    "##### Create a dictionary to store student information: name, grades for different subjects.\n",
    "##### Calculate the average grade for each student.\n",
    "##### Find the highest and lowest grades in a specific subject.\n",
    "##### Sort students by their average grades."
   ]
  },
  {
   "cell_type": "code",
   "execution_count": 12,
   "id": "9e779baf-df28-4eb9-8170-9facc048e98b",
   "metadata": {},
   "outputs": [
    {
     "name": "stdout",
     "output_type": "stream",
     "text": [
      "Average Grades: {'Ammar': 84.33333333333333, 'Ali': 91.66666666666667, 'Sara': 75.0}\n",
      "Highest in Math: Ali (92)\n",
      "Lowest in Math: Sara (70)\n",
      "Sorted by Average: [('Ali', 91.66666666666667), ('Ammar', 84.33333333333333), ('Sara', 75.0)]\n"
     ]
    }
   ],
   "source": [
    "gradebook = {\n",
    "    \"Ammar\": {\"Math\": 85, \"English\": 90, \"Science\": 78},\n",
    "    \"Ali\": {\"Math\": 92, \"English\": 88, \"Science\": 95},\n",
    "    \"Sara\": {\"Math\": 70, \"English\": 75, \"Science\": 80}\n",
    "}\n",
    "averages = {}\n",
    "for name, grades in gradebook.items():\n",
    "    averages[name] = sum(grades.values()) / len(grades)\n",
    "print(\"Average Grades:\", averages)\n",
    "subject = \"Math\"\n",
    "highest = max(gradebook, key=lambda x: gradebook[x][subject])\n",
    "lowest = min(gradebook, key=lambda x: gradebook[x][subject])\n",
    "print(f\"Highest in {subject}: {highest} ({gradebook[highest][subject]})\")\n",
    "print(f\"Lowest in {subject}: {lowest} ({gradebook[lowest][subject]})\")\n",
    "sorted_students = sorted(averages.items(), key=lambda x: x[1], reverse=True)\n",
    "print(\"Sorted by Average:\", sorted_students)"
   ]
  },
  {
   "cell_type": "markdown",
   "id": "9f04eba1-fc5e-40d2-b361-fcf36a52f007",
   "metadata": {},
   "source": [
    "# Question no. 8\n",
    "##### Simple E-commerce Store:\n",
    "##### Create a dictionary to store product information: name, price, quantity.\n",
    "##### Implement a shopping cart feature where users can add and remove products.\n",
    "##### Calculate the total cost of items in the cart.\n",
    "##### Apply discounts and taxes to the total cost."
   ]
  },
  {
   "cell_type": "code",
   "execution_count": 18,
   "id": "a362ef58-6109-4c49-a5b3-a74d80dd82bf",
   "metadata": {},
   "outputs": [
    {
     "name": "stdout",
     "output_type": "stream",
     "text": [
      "1 laptop(s) added to cart.\n",
      "2 phone(s) added to cart.\n",
      "\n",
      "Your Cart:\n",
      "laptop: 1\n",
      "phone: 2\n",
      "1 phone(s) removed from cart.\n",
      "\n",
      "----- BILL SUMMARY -----\n",
      "Subtotal: 1300\n",
      "Discount (10%): 130.0\n",
      "Tax (5%): 58.5\n",
      "Final Total: 1228.5\n"
     ]
    }
   ],
   "source": [
    "store = {\n",
    "    \"laptop\": {\"price\": 800, \"quantity\": 5},\n",
    "    \"phone\": {\"price\": 500, \"quantity\": 10},\n",
    "    \"headphones\": {\"price\": 100, \"quantity\": 15}\n",
    "}\n",
    "cart = {}\n",
    "def add_to_cart(name, quantity):\n",
    "    if name in store and store[name][\"quantity\"] >= quantity:\n",
    "        cart[name] = cart.get(name, 0) + quantity\n",
    "        store[name][\"quantity\"] -= quantity\n",
    "        print(f\"{quantity} {name}(s) added to cart.\")\n",
    "    else:\n",
    "        print(\"Product not available or insufficient stock.\")\n",
    "def remove_from_cart(name, quantity):\n",
    "    if name in cart and cart[name] >= quantity:\n",
    "        cart[name] -= quantity\n",
    "        store[name][\"quantity\"] += quantity\n",
    "        if cart[name] == 0:\n",
    "            del cart[name]\n",
    "        print(f\"{quantity} {name}(s) removed from cart.\")\n",
    "    else:\n",
    "        print(\"Product not found in cart or invalid quantity.\")\n",
    "def calculate_total():\n",
    "    total = 0\n",
    "    for name, quantity in cart.items():\n",
    "        total += store[name][\"price\"] * quantity\n",
    "    return total\n",
    "def checkout():\n",
    "    total = calculate_total()\n",
    "    discount = total * 0.10     # 10% discount\n",
    "    tax = (total - discount) * 0.05  # 5% tax\n",
    "    final_total = total - discount + tax\n",
    "\n",
    "    print(\"\\n----- BILL SUMMARY -----\")\n",
    "    print(\"Subtotal:\", total)\n",
    "    print(\"Discount (10%):\", discount)\n",
    "    print(\"Tax (5%):\", tax)\n",
    "    print(\"Final Total:\", final_total)\n",
    "def view_cart():\n",
    "    print(\"\\nYour Cart:\")\n",
    "    if not cart:\n",
    "        print(\"Cart is empty.\")\n",
    "    else:\n",
    "        for name, quantity in cart.items():\n",
    "            print(f\"{name}: {quantity}\")\n",
    "add_to_cart(\"laptop\", 1)\n",
    "add_to_cart(\"phone\", 2)\n",
    "view_cart()\n",
    "remove_from_cart(\"phone\", 1)\n",
    "checkout()"
   ]
  }
 ],
 "metadata": {
  "kernelspec": {
   "display_name": "Python [conda env:base] *",
   "language": "python",
   "name": "conda-base-py"
  },
  "language_info": {
   "codemirror_mode": {
    "name": "ipython",
    "version": 3
   },
   "file_extension": ".py",
   "mimetype": "text/x-python",
   "name": "python",
   "nbconvert_exporter": "python",
   "pygments_lexer": "ipython3",
   "version": "3.13.5"
  }
 },
 "nbformat": 4,
 "nbformat_minor": 5
}
